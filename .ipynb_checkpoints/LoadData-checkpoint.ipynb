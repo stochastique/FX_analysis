{
 "cells": [
  {
   "cell_type": "code",
   "execution_count": 2,
   "metadata": {},
   "outputs": [
    {
     "name": "stderr",
     "output_type": "stream",
     "text": [
      "Updating HTML index of packages in '.Library'\n",
      "Making 'packages.html' ... done\n",
      "Loading required package: xts\n",
      "Loading required package: zoo\n",
      "\n",
      "Attaching package: ‘zoo’\n",
      "\n",
      "The following objects are masked from ‘package:base’:\n",
      "\n",
      "    as.Date, as.Date.numeric\n",
      "\n"
     ]
    }
   ],
   "source": [
    "install.packages(\"Quandl\")\n",
    "library(Quandl)"
   ]
  },
  {
   "cell_type": "code",
   "execution_count": 3,
   "metadata": {},
   "outputs": [],
   "source": [
    "FX_USDAUD_d.ts <- Quandl('BOE/XUDLADD',\n",
    "#                    trim_start = \"1987-05-20\", #2001-01-01\n",
    "#                    trim_end = \"2018-03-31\",\n",
    "                    type = \"zoo\",\n",
    "#                    collapse=\"monthly\",\n",
    "#                    api_key = \"vth-3tbfGzivqxusRwyG\"\n",
    ")\n",
    "FX_GBPAUD_d.ts <- Quandl('BOE/XUDLADS',\n",
    "#                    trim_start = \"1987-05-20\", #2001-01-01\n",
    "#                    trim_end = \"2018-03-31\",\n",
    "                    type = \"zoo\",\n",
    "#                    collapse=\"monthly\",\n",
    "#                    api_key = \"vth-3tbfGzivqxusRwyG\"\n",
    ")\n",
    "FX_USDEUR_d.ts <- Quandl('BOE/XUDLERD',\n",
    "#                    trim_start = \"1987-05-20\", #2001-01-01\n",
    "#                    trim_end = \"2018-03-31\",\n",
    "                    type = \"zoo\",\n",
    "#                    collapse=\"monthly\",\n",
    "#                    api_key = \"vth-3tbfGzivqxusRwyG\"\n",
    ")\n",
    "FX_USDZAR_d.ts <- Quandl('BOE/XUDLZRD',\n",
    "#                         trim_start = \"1987-05-20\", #2001-01-01\n",
    "#                         trim_end = \"2018-03-31\",\n",
    "                         type = \"zoo\",\n",
    "#                         collapse=\"monthly\",\n",
    "#                         api_key = \"vth-3tbfGzivqxusRwyG\"\n",
    ")\n",
    "FX_USDAUD_ma.ts <- apply.monthly(FX_USDAUD_d.ts, FUN = mean)\n",
    "FX_GBPAUD_ma.ts <- apply.monthly(FX_GBPAUD_d.ts, FUN = mean)\n",
    "FX_USDEUR_ma.ts <- apply.monthly(FX_USDEUR_d.ts, FUN = mean)\n",
    "FX_USDZAR_ma.ts <- apply.monthly(FX_USDZAR_d.ts, FUN = mean)\n",
    "write.zoo(FX_USDAUD_ma.ts, file = \"FX_USDAUD_ma.csv\", sep = \";\")\n",
    "write.zoo(FX_GBPAUD_ma.ts, file = \"FX_GBPAUD_ma.csv\", sep = \";\")\n",
    "write.zoo(FX_USDEUR_ma.ts, file = \"FX_USDEUR_ma.csv\", sep = \";\")\n",
    "write.zoo(FX_USDZAR_ma.ts, file = \"FX_USDZAR_ma.csv\", sep = \";\")"
   ]
  }
 ],
 "metadata": {
  "kernelspec": {
   "display_name": "R",
   "language": "R",
   "name": "ir"
  },
  "language_info": {
   "codemirror_mode": "r",
   "file_extension": ".r",
   "mimetype": "text/x-r-source",
   "name": "R",
   "pygments_lexer": "r",
   "version": "3.5.1"
  }
 },
 "nbformat": 4,
 "nbformat_minor": 2
}
